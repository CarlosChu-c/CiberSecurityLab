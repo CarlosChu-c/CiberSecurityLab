{
 "cells": [
  {
   "cell_type": "markdown",
   "metadata": {
    "pycharm": {
     "name": "#%% md\n"
    }
   },
   "source": [
    "# CS4035 - Cyber Data Analytics\n",
    "## Lab 1 - Fraud data"
   ]
  },
  {
   "source": [
    "### Submit on brightspace (zip file with the name Group_xx.zip)\n",
    "(i) This jupyter file completed with code, plots, figures and report for each question. Additional plots and figures can be created for explanation before the end of each main question. Lab 1 contains 5 main questions, including the bonus. Write the code or explanation below each sub question. For the explanations, include what you would normally include in the report for this lab assignment, for example data pre-processing, hypothesis tested, approach, results, etc.\n",
    "(ii) The libraries needed to run this file. Except for numpy, scikit-learn, pandas, matplotlib\n",
    "\n",
    "Your peers should be able to use the readme section for instructions and be able to run this file. \n",
    "\n",
    "Make sure to keep your answers concise. Maximum number of words is 1000, which you can count with the code below. (You can add around 600 words since we start at around 400)."
   ],
   "cell_type": "markdown",
   "metadata": {
    "pycharm": {
     "name": "#%% md\n"
    }
   }
  },
  {
   "cell_type": "code",
   "execution_count": 17,
   "metadata": {
    "pycharm": {
     "name": "#%%\n"
    }
   },
   "outputs": [
    {
     "output_type": "stream",
     "name": "stdout",
     "text": [
      "Word count: 368\n"
     ]
    }
   ],
   "source": [
    "# If this cell does not work try running `pip install nbformat`\n",
    "\n",
    "import io\n",
    "from IPython import nbformat\n",
    "\n",
    "nb = nbformat.read(\"Lab1.ipynb\", nbformat.NO_CONVERT)\n",
    "word_count = 0\n",
    "for cell in nb.cells:\n",
    "    if cell.cell_type == \"markdown\":\n",
    "        word_count += len(cell['source'].replace('#', '').lstrip().split(' '))\n",
    "\n",
    "print(\"Word count:\", word_count)"
   ]
  },
  {
   "cell_type": "markdown",
   "metadata": {
    "pycharm": {
     "name": "#%% md\n"
    }
   },
   "source": [
    "## Group Number : 5"
   ]
  },
  {
   "cell_type": "markdown",
   "metadata": {
    "pycharm": {
     "name": "#%% md\n"
    }
   },
   "source": [
    "## Student 1 \n",
    "### Name : Chaoyi Zhu\n",
    "### ID : 5500524"
   ]
  },
  {
   "cell_type": "markdown",
   "metadata": {
    "pycharm": {
     "name": "#%% md\n"
    }
   },
   "source": [
    "## Student 2\n",
    "### Name :\n",
    "### ID :"
   ]
  },
  {
   "cell_type": "markdown",
   "metadata": {
    "pycharm": {
     "name": "#%% md\n"
    }
   },
   "source": [
    "## Readme - Provide instructions - libraries used, location of the data file, etc. Keep it short. Remember your peers will not debug your code and should be able to reproduce the exact output you provide."
   ]
  },
  {
   "cell_type": "code",
   "execution_count": 2,
   "metadata": {
    "pycharm": {
     "name": "#%%\n"
    }
   },
   "outputs": [],
   "source": [
    "import numpy as np\n",
    "import pandas as pd\n",
    "import seaborn as sns\n",
    "import matplotlib.pyplot as plt\n",
    "from sklearn.preprocessing import LabelEncoder\n",
    "from sklearn.preprocessing import StandardScaler\n",
    "from sklearn.decomposition import PCA\n",
    "import re\n",
    "import os"
   ]
  },
  {
   "cell_type": "markdown",
   "metadata": {
    "pycharm": {
     "name": "#%% md\n"
    }
   },
   "source": [
    "## 1. Visualization task – 1 A4"
   ]
  },
  {
   "cell_type": "markdown",
   "metadata": {
    "pycharm": {
     "name": "#%% md\n"
    }
   },
   "source": [
    "### 1a. Plot visulations"
   ]
  },
  {
   "cell_type": "code",
   "execution_count": null,
   "outputs": [],
   "source": [
    "# Load the data\n",
    "df_src = pd.read_csv(os.path.join('data', 'train_data.csv'))\n",
    "\n",
    "# Number of Transactions\n",
    "print(\"================= Number of Transactions =================\")\n",
    "print(\"Number of rows = \" + str(len(df_src.index)))\n",
    "print(\"Number of fraudulent transactions = \" + str(len(df_src.loc[df_src['label'] == 1])))\n",
    "print(\"Number of valid transactions = \" + str(len(df_src.loc[df_src['label'] == 0])))\n",
    "\n",
    "# Show part of the sample data\n",
    "print(\"================= Show part of the sample data =================\")\n",
    "display(df_src.head(5))\n",
    "\n",
    "# Preprocessing the data\n",
    "# 1.Card ID\n",
    "card_enc = LabelEncoder()\n",
    "card_enc.fit(df_src['card_id'])\n",
    "df_src['card_id'] = card_enc.transform(df_src.card_id)\n",
    "\n",
    "# 2.IP ID\n",
    "ip_enc = LabelEncoder()\n",
    "ip_enc.fit(df_src['ip_id'])\n",
    "df_src['ip_id'] = ip_enc.transform(df_src.ip_id)\n",
    "\n",
    "# 3.Remove NA values\n",
    "df_src.loc[df_src['cardverificationcodesupplied'].isna(),'cardverificationcodesupplied'] = False\n",
    "df_src.loc[df_src['issuercountrycode'].isna(),'issuercountrycode'] = 'ZZ'\n",
    "df_src.loc[df_src['shoppercountrycode'].isna(),'shoppercountrycode'] = 'ZZ'\n",
    "\n",
    "# 4.Country code\n",
    "unique_issuer_cc = df_src['issuercountrycode'].unique()\n",
    "unique_shopper_cc = df_src['shoppercountrycode'].unique()\n",
    "both = np.append(unique_issuer_cc, unique_shopper_cc)\n",
    "df_countrycodes = pd.DataFrame(both)\n",
    "unique_codes = df_countrycodes[0].unique()\n",
    "enc = LabelEncoder()\n",
    "enc.fit(unique_codes)\n",
    "df_src['issuercountrycode'] = enc.transform(df_src.issuercountrycode)\n",
    "df_src['shoppercountrycode'] = enc.transform(df_src.shoppercountrycode)\n",
    "\n",
    "# 5.Change currency to EUR\n",
    "def conv(row):\n",
    "    currency_dict = {\"BGN\": 1.9558, \"NZD\": 1.6805, \"ILS\": 4.0448, \"RUB\": 72.2099, \"CAD\": 1.5075, \"USD\": 1.1218,\n",
    "                     \"PHP\": 58.125, \"CHF\": 1.1437, \"ZAR\": 16.0224, \"AUD\": 1.5911, \"JPY\": 124.93, \"TRY\": 6.6913,\n",
    "                     \"HKD\": 8.8007, \"MYR\": 4.6314, \"THB\": 35.802, \"HRK\": 7.413, \"NOK\": 9.6678, \"IDR\": 15953.68,\n",
    "                     \"DKK\": 7.4646, \"CZK\": 25.659, \"HUF\": 322.97, \"GBP\": 0.86248, \"MXN\": 21.2829, \"KRW\": 1308.01,\n",
    "                     \"ISK\": 136.2, \"SGD\": 1.5263, \"BRL\": 4.405, \"PLN\": 4.2868, \"INR\": 78.0615, \"RON\": 4.7596,\n",
    "                     \"CNY\": 7.5541, \"SEK\": 10.635}\n",
    "    return row['amount'] / (currency_dict[row['currencycode']]*100)\n",
    "df_src['amount_eur'] = df_src.apply(lambda x: conv(x), axis=1)\n",
    "\n",
    "# 6.Tx-variantcode\n",
    "enc1 = LabelEncoder()\n",
    "enc1.fit(df_src['txvariantcode'])\n",
    "df_src['txvariantcode'] = enc1.transform(df_src.txvariantcode)\n",
    "\n",
    "# 7.Currency code\n",
    "enc2 = LabelEncoder()\n",
    "enc2.fit(df_src['currencycode'])\n",
    "df_src['currencycode'] = enc2.transform(df_src.currencycode)\n",
    "\n",
    "# 8.Shopper interaction\n",
    "enc3 = LabelEncoder()\n",
    "enc3.fit(df_src['shopperinteraction'])\n",
    "df_src['shopperinteraction'] = enc3.transform(df_src.shopperinteraction)\n",
    "\n",
    "# 9.Cache accountcode_cc\n",
    "df_src['accountcode'] = df_src['accountcode'].apply(lambda x: re.sub('Account','',x))\n",
    "df_src['accountcode_cc'] = 0\n",
    "df_src.loc[(df_src['accountcode'] == 'UK'),'accountcode_cc'] = 'GB'\n",
    "df_src.loc[(df_src['accountcode'] == 'Mexico'),'accountcode_cc'] = 'MX'\n",
    "df_src.loc[(df_src['accountcode'] == 'Sweden'),'accountcode_cc'] = 'SE'\n",
    "df_src.loc[(df_src['accountcode'] == 'APAC'),'accountcode_cc'] = 'APAC'\n",
    "\n",
    "# 10.Account code\n",
    "enc4 = LabelEncoder()\n",
    "enc4.fit(df_src['accountcode'])\n",
    "df_src['accountcode'] = enc4.transform(df_src.accountcode)\n",
    "\n",
    "# 11.Card verification code supplied\n",
    "enc5 = LabelEncoder()\n",
    "enc5.fit(df_src['cardverificationcodesupplied'])\n",
    "df_src['cardverificationcodesupplied'] = enc5.transform(df_src.cardverificationcodesupplied)\n",
    "\n",
    "# 12. Mail id\n",
    "df_src.loc[df_src['mail_id'].str.contains('na',case=False),'mail_id'] = 'email99999'\n",
    "\n",
    "enc6 = LabelEncoder()\n",
    "enc6.fit(df_src['mail_id'])\n",
    "df_src['mail_id'] = enc6.transform(df_src.mail_id)\n",
    "\n",
    "# Validation result of CVC/CVV2\n",
    "df_src.loc[df_src['cvcresponsecode'] > 2,'cvcresponsecode'] = 3\n",
    "\n",
    "# Feature Engineering\n",
    "df_src['countries_equal'] = (df_src['shoppercountrycode'] == df_src['issuercountrycode'])\n",
    "df_src.loc[df_src['countries_equal'] == False,'countries_equal'] = 0\n",
    "df_src.loc[df_src['countries_equal'] == True,'countries_equal'] = 1"
   ],
   "metadata": {
    "collapsed": false,
    "pycharm": {
     "name": "#%%\n"
    }
   }
  },
  {
   "cell_type": "markdown",
   "source": [],
   "metadata": {
    "collapsed": false,
    "pycharm": {
     "name": "#%% md\n"
    }
   }
  },
  {
   "cell_type": "markdown",
   "metadata": {
    "pycharm": {
     "name": "#%% md\n"
    }
   },
   "source": [
    "### 1b. Describe the visualizations and provide relavant explanations of features and relations."
   ]
  },
  {
   "cell_type": "code",
   "execution_count": null,
   "metadata": {
    "pycharm": {
     "name": "#%%\n"
    }
   },
   "outputs": [],
   "source": []
  },
  {
   "cell_type": "markdown",
   "metadata": {
    "pycharm": {
     "name": "#%% md\n"
    }
   },
   "source": [
    "## 2. Imbalance task – 1 A4 – Individual"
   ]
  },
  {
   "cell_type": "markdown",
   "metadata": {
    "pycharm": {
     "name": "#%% md\n"
    }
   },
   "source": [
    "### 2a. Print ROC curves"
   ]
  },
  {
   "cell_type": "code",
   "execution_count": null,
   "metadata": {
    "pycharm": {
     "name": "#%%\n"
    }
   },
   "outputs": [],
   "source": []
  },
  {
   "cell_type": "markdown",
   "metadata": {
    "pycharm": {
     "name": "#%% md\n"
    }
   },
   "source": [
    "### 2b. Analyse the performance of the classifiers. Explain which method performs best."
   ]
  },
  {
   "cell_type": "code",
   "execution_count": null,
   "metadata": {
    "pycharm": {
     "name": "#%%\n"
    }
   },
   "outputs": [],
   "source": []
  },
  {
   "cell_type": "markdown",
   "metadata": {
    "pycharm": {
     "name": "#%% md\n"
    }
   },
   "source": [
    "### 2c. Is using SMOTE a good idea? Why (not)?"
   ]
  },
  {
   "cell_type": "code",
   "execution_count": null,
   "metadata": {
    "pycharm": {
     "name": "#%%\n"
    }
   },
   "outputs": [],
   "source": []
  },
  {
   "cell_type": "markdown",
   "metadata": {
    "pycharm": {
     "name": "#%% md\n"
    }
   },
   "source": [
    "## 3. Privacy task – 1 A4 – Individual"
   ]
  },
  {
   "cell_type": "markdown",
   "metadata": {
    "pycharm": {
     "name": "#%% md\n"
    }
   },
   "source": [
    "### 3a. Print ROC curves"
   ]
  },
  {
   "cell_type": "code",
   "execution_count": null,
   "metadata": {
    "pycharm": {
     "name": "#%%\n"
    }
   },
   "outputs": [],
   "source": []
  },
  {
   "cell_type": "markdown",
   "metadata": {
    "pycharm": {
     "name": "#%% md\n"
    }
   },
   "source": [
    "### 3b. Analyse the performance of the classifiers. Explain which method performs best."
   ]
  },
  {
   "cell_type": "code",
   "execution_count": null,
   "metadata": {
    "pycharm": {
     "name": "#%%\n"
    }
   },
   "outputs": [],
   "source": []
  },
  {
   "cell_type": "markdown",
   "metadata": {
    "pycharm": {
     "name": "#%% md\n"
    }
   },
   "source": [
    "### 3c. Can you explain the performance difference for the different classifiers? Is it advisable to protect people’s privacy using rank-swapping? Why (not)?"
   ]
  },
  {
   "cell_type": "code",
   "execution_count": null,
   "metadata": {
    "pycharm": {
     "name": "#%%\n"
    }
   },
   "outputs": [],
   "source": []
  },
  {
   "cell_type": "markdown",
   "metadata": {
    "pycharm": {
     "name": "#%% md\n"
    }
   },
   "source": [
    "## 4. Classification task – 2 A4"
   ]
  },
  {
   "cell_type": "markdown",
   "metadata": {
    "pycharm": {
     "name": "#%% md\n"
    }
   },
   "source": [
    "### 4a. Print relevant plots and metrics with clear headings."
   ]
  },
  {
   "cell_type": "code",
   "execution_count": null,
   "metadata": {
    "pycharm": {
     "name": "#%%\n"
    }
   },
   "outputs": [],
   "source": []
  },
  {
   "cell_type": "markdown",
   "metadata": {
    "pycharm": {
     "name": "#%% md\n"
    }
   },
   "source": [
    "### 4b. Explain the applied data pre-processing steps, learning algorithms, and post-processing steps or ensemble methods. Compare the performance of the two algorithms, focusing on performance criteria that are relevant in practice, use 10-fold cross-validation."
   ]
  },
  {
   "cell_type": "code",
   "execution_count": null,
   "metadata": {
    "pycharm": {
     "name": "#%%\n"
    }
   },
   "outputs": [],
   "source": []
  },
  {
   "cell_type": "markdown",
   "metadata": {
    "pycharm": {
     "name": "#%% md\n"
    }
   },
   "source": [
    "## 5. Bonus task – 1 A4"
   ]
  },
  {
   "cell_type": "markdown",
   "metadata": {
    "pycharm": {
     "name": "#%% md\n"
    }
   },
   "source": [
    "### 5a. Provide code and report below"
   ]
  },
  {
   "cell_type": "code",
   "execution_count": null,
   "metadata": {
    "pycharm": {
     "name": "#%%\n"
    }
   },
   "outputs": [],
   "source": []
  }
 ],
 "metadata": {
  "kernelspec": {
   "name": "python3",
   "display_name": "Python 3.9.1 64-bit ('venv')",
   "metadata": {
    "interpreter": {
     "hash": "bf9aa738b81349e875513c622ef6663fb616407fdaeae46f7692b5fc3bd3bcc6"
    }
   }
  },
  "language_info": {
   "codemirror_mode": {
    "name": "ipython",
    "version": 3
   },
   "file_extension": ".py",
   "mimetype": "text/x-python",
   "name": "python",
   "nbconvert_exporter": "python",
   "pygments_lexer": "ipython3",
   "version": "3.9.1-final"
  }
 },
 "nbformat": 4,
 "nbformat_minor": 2
}
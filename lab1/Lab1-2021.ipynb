{
 "cells": [
  {
   "cell_type": "markdown",
   "metadata": {
    "pycharm": {
     "name": "#%% md\n"
    }
   },
   "source": [
    "# CS4035 - Cyber Data Analytics\n",
    "## Lab 1 - Fraud data"
   ]
  },
  {
   "source": [
    "### Submit on brightspace (zip file with the name Group_xx.zip)\n",
    "(i) This jupyter file completed with code, plots, figures and report for each question. Additional plots and figures can be created for explanation before the end of each main question. Lab 1 contains 5 main questions, including the bonus. Write the code or explanation below each sub question. For the explanations, include what you would normally include in the report for this lab assignment, for example data pre-processing, hypothesis tested, approach, results, etc.\n",
    "(ii) The libraries needed to run this file. Except for numpy, scikit-learn, pandas, matplotlib\n",
    "\n",
    "Your peers should be able to use the readme section for instructions and be able to run this file. \n",
    "\n",
    "Make sure to keep your answers concise. Maximum number of words is 1000, which you can count with the code below. (You can add around 600 words since we start at around 400)."
   ],
   "cell_type": "markdown",
   "metadata": {
    "pycharm": {
     "name": "#%% md\n"
    }
   }
  },
  {
   "cell_type": "code",
   "execution_count": 1,
   "metadata": {
    "pycharm": {
     "name": "#%%\n"
    }
   },
   "outputs": [
    {
     "name": "stderr",
     "output_type": "stream",
     "text": [
      "/home/cy/anaconda3/envs/pytorch/lib/python3.9/site-packages/IPython/nbformat.py:12: ShimWarning: The `IPython.nbformat` package has been deprecated since IPython 4.0. You should import from nbformat instead.\n",
      "  warn(\"The `IPython.nbformat` package has been deprecated since IPython 4.0. \"\n"
     ]
    },
    {
     "ename": "FileNotFoundError",
     "evalue": "[Errno 2] No such file or directory: 'Lab1.ipynb'",
     "output_type": "error",
     "traceback": [
      "\u001B[0;31m---------------------------------------------------------------------------\u001B[0m",
      "\u001B[0;31mAttributeError\u001B[0m                            Traceback (most recent call last)",
      "\u001B[0;32m~/anaconda3/envs/pytorch/lib/python3.9/site-packages/nbformat/__init__.py\u001B[0m in \u001B[0;36mread\u001B[0;34m(fp, as_version, **kwargs)\u001B[0m\n\u001B[1;32m    137\u001B[0m     \u001B[0;32mtry\u001B[0m\u001B[0;34m:\u001B[0m\u001B[0;34m\u001B[0m\u001B[0;34m\u001B[0m\u001B[0m\n\u001B[0;32m--> 138\u001B[0;31m         \u001B[0mbuf\u001B[0m \u001B[0;34m=\u001B[0m \u001B[0mfp\u001B[0m\u001B[0;34m.\u001B[0m\u001B[0mread\u001B[0m\u001B[0;34m(\u001B[0m\u001B[0;34m)\u001B[0m\u001B[0;34m\u001B[0m\u001B[0;34m\u001B[0m\u001B[0m\n\u001B[0m\u001B[1;32m    139\u001B[0m     \u001B[0;32mexcept\u001B[0m \u001B[0mAttributeError\u001B[0m\u001B[0;34m:\u001B[0m\u001B[0;34m\u001B[0m\u001B[0;34m\u001B[0m\u001B[0m\n",
      "\u001B[0;31mAttributeError\u001B[0m: 'str' object has no attribute 'read'",
      "\nDuring handling of the above exception, another exception occurred:\n",
      "\u001B[0;31mFileNotFoundError\u001B[0m                         Traceback (most recent call last)",
      "\u001B[0;32m/tmp/ipykernel_31901/2169736292.py\u001B[0m in \u001B[0;36m<module>\u001B[0;34m\u001B[0m\n\u001B[1;32m      4\u001B[0m \u001B[0;32mfrom\u001B[0m \u001B[0mIPython\u001B[0m \u001B[0;32mimport\u001B[0m \u001B[0mnbformat\u001B[0m\u001B[0;34m\u001B[0m\u001B[0;34m\u001B[0m\u001B[0m\n\u001B[1;32m      5\u001B[0m \u001B[0;34m\u001B[0m\u001B[0m\n\u001B[0;32m----> 6\u001B[0;31m \u001B[0mnb\u001B[0m \u001B[0;34m=\u001B[0m \u001B[0mnbformat\u001B[0m\u001B[0;34m.\u001B[0m\u001B[0mread\u001B[0m\u001B[0;34m(\u001B[0m\u001B[0;34m\"Lab1.ipynb\"\u001B[0m\u001B[0;34m,\u001B[0m \u001B[0mnbformat\u001B[0m\u001B[0;34m.\u001B[0m\u001B[0mNO_CONVERT\u001B[0m\u001B[0;34m)\u001B[0m\u001B[0;34m\u001B[0m\u001B[0;34m\u001B[0m\u001B[0m\n\u001B[0m\u001B[1;32m      7\u001B[0m \u001B[0mword_count\u001B[0m \u001B[0;34m=\u001B[0m \u001B[0;36m0\u001B[0m\u001B[0;34m\u001B[0m\u001B[0;34m\u001B[0m\u001B[0m\n\u001B[1;32m      8\u001B[0m \u001B[0;32mfor\u001B[0m \u001B[0mcell\u001B[0m \u001B[0;32min\u001B[0m \u001B[0mnb\u001B[0m\u001B[0;34m.\u001B[0m\u001B[0mcells\u001B[0m\u001B[0;34m:\u001B[0m\u001B[0;34m\u001B[0m\u001B[0;34m\u001B[0m\u001B[0m\n",
      "\u001B[0;32m~/anaconda3/envs/pytorch/lib/python3.9/site-packages/nbformat/__init__.py\u001B[0m in \u001B[0;36mread\u001B[0;34m(fp, as_version, **kwargs)\u001B[0m\n\u001B[1;32m    138\u001B[0m         \u001B[0mbuf\u001B[0m \u001B[0;34m=\u001B[0m \u001B[0mfp\u001B[0m\u001B[0;34m.\u001B[0m\u001B[0mread\u001B[0m\u001B[0;34m(\u001B[0m\u001B[0;34m)\u001B[0m\u001B[0;34m\u001B[0m\u001B[0;34m\u001B[0m\u001B[0m\n\u001B[1;32m    139\u001B[0m     \u001B[0;32mexcept\u001B[0m \u001B[0mAttributeError\u001B[0m\u001B[0;34m:\u001B[0m\u001B[0;34m\u001B[0m\u001B[0;34m\u001B[0m\u001B[0m\n\u001B[0;32m--> 140\u001B[0;31m         \u001B[0;32mwith\u001B[0m \u001B[0mio\u001B[0m\u001B[0;34m.\u001B[0m\u001B[0mopen\u001B[0m\u001B[0;34m(\u001B[0m\u001B[0mfp\u001B[0m\u001B[0;34m,\u001B[0m \u001B[0mencoding\u001B[0m\u001B[0;34m=\u001B[0m\u001B[0;34m'utf-8'\u001B[0m\u001B[0;34m)\u001B[0m \u001B[0;32mas\u001B[0m \u001B[0mf\u001B[0m\u001B[0;34m:\u001B[0m\u001B[0;34m\u001B[0m\u001B[0;34m\u001B[0m\u001B[0m\n\u001B[0m\u001B[1;32m    141\u001B[0m             \u001B[0;32mreturn\u001B[0m \u001B[0mreads\u001B[0m\u001B[0;34m(\u001B[0m\u001B[0mf\u001B[0m\u001B[0;34m.\u001B[0m\u001B[0mread\u001B[0m\u001B[0;34m(\u001B[0m\u001B[0;34m)\u001B[0m\u001B[0;34m,\u001B[0m \u001B[0mas_version\u001B[0m\u001B[0;34m,\u001B[0m \u001B[0;34m**\u001B[0m\u001B[0mkwargs\u001B[0m\u001B[0;34m)\u001B[0m\u001B[0;34m\u001B[0m\u001B[0;34m\u001B[0m\u001B[0m\n\u001B[1;32m    142\u001B[0m \u001B[0;34m\u001B[0m\u001B[0m\n",
      "\u001B[0;31mFileNotFoundError\u001B[0m: [Errno 2] No such file or directory: 'Lab1.ipynb'"
     ]
    }
   ],
   "source": [
    "# If this cell does not work try running `pip install nbformat`\n",
    "\n",
    "import io\n",
    "from IPython import nbformat\n",
    "\n",
    "nb = nbformat.read(\"Lab1.ipynb\", nbformat.NO_CONVERT)\n",
    "word_count = 0\n",
    "for cell in nb.cells:\n",
    "    if cell.cell_type == \"markdown\":\n",
    "        word_count += len(cell['source'].replace('#', '').lstrip().split(' '))\n",
    "\n",
    "print(\"Word count:\", word_count)"
   ]
  },
  {
   "cell_type": "markdown",
   "metadata": {
    "pycharm": {
     "name": "#%% md\n"
    }
   },
   "source": [
    "## Group Number : 5"
   ]
  },
  {
   "cell_type": "markdown",
   "metadata": {
    "pycharm": {
     "name": "#%% md\n"
    }
   },
   "source": [
    "## Student 1 \n",
    "### Name : Chaoyi Zhu\n",
    "### ID : 5500524"
   ]
  },
  {
   "cell_type": "markdown",
   "metadata": {
    "pycharm": {
     "name": "#%% md\n"
    }
   },
   "source": [
    "## Student 2\n",
    "### Name :\n",
    "### ID :"
   ]
  },
  {
   "cell_type": "markdown",
   "metadata": {
    "pycharm": {
     "name": "#%% md\n"
    }
   },
   "source": [
    "## Readme - Provide instructions - libraries used, location of the data file, etc. Keep it short. Remember your peers will not debug your code and should be able to reproduce the exact output you provide."
   ]
  },
  {
   "cell_type": "code",
   "execution_count": 3,
   "metadata": {
    "pycharm": {
     "name": "#%%\n"
    }
   },
   "outputs": [],
   "source": [
    "import numpy as np\n",
    "import pandas as pd\n",
    "import seaborn as sns\n",
    "import matplotlib.pyplot as plt\n",
    "from sklearn.preprocessing import LabelEncoder\n",
    "from sklearn.preprocessing import StandardScaler\n",
    "from sklearn.decomposition import PCA\n",
    "from sklearn.model_selection import train_test_split\n",
    "import re\n",
    "import os"
   ]
  },
  {
   "cell_type": "markdown",
   "metadata": {
    "pycharm": {
     "name": "#%% md\n"
    }
   },
   "source": [
    "## 1. Visualization task – 1 A4"
   ]
  },
  {
   "cell_type": "markdown",
   "metadata": {
    "pycharm": {
     "name": "#%% md\n"
    }
   },
   "source": [
    "### 1a. Plot visualizations\n",
    "### Data preprocessing"
   ]
  },
  {
   "cell_type": "code",
   "execution_count": 4,
   "outputs": [
    {
     "name": "stdout",
     "output_type": "stream",
     "text": [
      "================= Number of Transactions =================\n",
      "Number of rows = 189628\n",
      "Number of fraudulent transactions = 276\n",
      "Number of valid transactions = 189352\n",
      "================= Show part of the sample data =================\n"
     ]
    },
    {
     "data": {
      "text/plain": "   Id issuercountrycode txvariantcode       bin   amount currencycode  \\\n0   1                GB      mccredit  546097.0   4500.0          GBP   \n1   2                GB       mcdebit  557349.0   3395.0          GBP   \n2   3                GB      mccredit  542011.0   3895.0          GBP   \n3   4                GB     visadebit  465943.0  15345.0          GBP   \n4   6                GB     visadebit  475127.0   5095.0          GBP   \n\n  shoppercountrycode shopperinteraction cardverificationcodesupplied  \\\n0                 GB          Ecommerce                         True   \n1                 GB          Ecommerce                         True   \n2                 GB          Ecommerce                         True   \n3                 GB           ContAuth                        False   \n4                 GB          Ecommerce                         True   \n\n   cvcresponsecode accountcode      mail_id     ip_id     card_id  label  \n0                1   UKAccount  email132571  ip123779  card250169      0  \n1                1   UKAccount  email312302  ip298387   card14235      0  \n2                1   UKAccount  email255027  ip260053   card31944      0  \n3                0   UKAccount  email283167   ip54851  card120871      0  \n4                1   UKAccount  email325263  ip203929  card208017      0  ",
      "text/html": "<div>\n<style scoped>\n    .dataframe tbody tr th:only-of-type {\n        vertical-align: middle;\n    }\n\n    .dataframe tbody tr th {\n        vertical-align: top;\n    }\n\n    .dataframe thead th {\n        text-align: right;\n    }\n</style>\n<table border=\"1\" class=\"dataframe\">\n  <thead>\n    <tr style=\"text-align: right;\">\n      <th></th>\n      <th>Id</th>\n      <th>issuercountrycode</th>\n      <th>txvariantcode</th>\n      <th>bin</th>\n      <th>amount</th>\n      <th>currencycode</th>\n      <th>shoppercountrycode</th>\n      <th>shopperinteraction</th>\n      <th>cardverificationcodesupplied</th>\n      <th>cvcresponsecode</th>\n      <th>accountcode</th>\n      <th>mail_id</th>\n      <th>ip_id</th>\n      <th>card_id</th>\n      <th>label</th>\n    </tr>\n  </thead>\n  <tbody>\n    <tr>\n      <th>0</th>\n      <td>1</td>\n      <td>GB</td>\n      <td>mccredit</td>\n      <td>546097.0</td>\n      <td>4500.0</td>\n      <td>GBP</td>\n      <td>GB</td>\n      <td>Ecommerce</td>\n      <td>True</td>\n      <td>1</td>\n      <td>UKAccount</td>\n      <td>email132571</td>\n      <td>ip123779</td>\n      <td>card250169</td>\n      <td>0</td>\n    </tr>\n    <tr>\n      <th>1</th>\n      <td>2</td>\n      <td>GB</td>\n      <td>mcdebit</td>\n      <td>557349.0</td>\n      <td>3395.0</td>\n      <td>GBP</td>\n      <td>GB</td>\n      <td>Ecommerce</td>\n      <td>True</td>\n      <td>1</td>\n      <td>UKAccount</td>\n      <td>email312302</td>\n      <td>ip298387</td>\n      <td>card14235</td>\n      <td>0</td>\n    </tr>\n    <tr>\n      <th>2</th>\n      <td>3</td>\n      <td>GB</td>\n      <td>mccredit</td>\n      <td>542011.0</td>\n      <td>3895.0</td>\n      <td>GBP</td>\n      <td>GB</td>\n      <td>Ecommerce</td>\n      <td>True</td>\n      <td>1</td>\n      <td>UKAccount</td>\n      <td>email255027</td>\n      <td>ip260053</td>\n      <td>card31944</td>\n      <td>0</td>\n    </tr>\n    <tr>\n      <th>3</th>\n      <td>4</td>\n      <td>GB</td>\n      <td>visadebit</td>\n      <td>465943.0</td>\n      <td>15345.0</td>\n      <td>GBP</td>\n      <td>GB</td>\n      <td>ContAuth</td>\n      <td>False</td>\n      <td>0</td>\n      <td>UKAccount</td>\n      <td>email283167</td>\n      <td>ip54851</td>\n      <td>card120871</td>\n      <td>0</td>\n    </tr>\n    <tr>\n      <th>4</th>\n      <td>6</td>\n      <td>GB</td>\n      <td>visadebit</td>\n      <td>475127.0</td>\n      <td>5095.0</td>\n      <td>GBP</td>\n      <td>GB</td>\n      <td>Ecommerce</td>\n      <td>True</td>\n      <td>1</td>\n      <td>UKAccount</td>\n      <td>email325263</td>\n      <td>ip203929</td>\n      <td>card208017</td>\n      <td>0</td>\n    </tr>\n  </tbody>\n</table>\n</div>"
     },
     "metadata": {},
     "output_type": "display_data"
    },
    {
     "name": "stdout",
     "output_type": "stream",
     "text": [
      "=================Processed data=================\n"
     ]
    },
    {
     "data": {
      "text/plain": "   Id  issuercountrycode  txvariantcode       bin   amount  currencycode  \\\n0   1                 49              2  546097.0   4500.0             1   \n1   2                 49              3  557349.0   3395.0             1   \n2   3                 49              2  542011.0   3895.0             1   \n3   4                 49              8  465943.0  15345.0             1   \n4   6                 49              8  475127.0   5095.0             1   \n5   8                 49              8  475130.0   2325.0             1   \n6  10                 49              8  446291.0  10050.0             1   \n7  11                 49              8  446238.0   7000.0             1   \n8  12                 49              8  465943.0   5195.0             1   \n9  13                 49              8  475714.0  15000.0             1   \n\n   shoppercountrycode  shopperinteraction  cardverificationcodesupplied  \\\n0                  49                   1                             1   \n1                  49                   1                             1   \n2                  49                   1                             1   \n3                  49                   0                             0   \n4                  49                   1                             1   \n5                  49                   0                             0   \n6                  49                   1                             1   \n7                  49                   1                             1   \n8                  49                   1                             1   \n9                  49                   1                             1   \n\n   cvcresponsecode  accountcode  mail_id   ip_id  card_id  label  amount_eur  \\\n0                1            3    17805   12538   105460      0   52.175123   \n1                1            3   115620  107432    29882      0   39.363232   \n2                1            3    84651   87293   123743      0   45.160467   \n3                0            3    99845  147089    14712      0  177.917169   \n4                1            3   122624   56390    75841      0   59.073834   \n5                0            3    17723   73821    96349      0   26.957147   \n6                1            3    43402   65524   109435      0  116.524441   \n7                1            3    82674  121644    64458      0   81.161302   \n8                1            3   157111  160643   133779      0   60.233281   \n9                1            3   161166  144211   119109      0  173.917076   \n\n  accountcode_cc countries_equal  \n0             GB               1  \n1             GB               1  \n2             GB               1  \n3             GB               1  \n4             GB               1  \n5             GB               1  \n6             GB               1  \n7             GB               1  \n8             GB               1  \n9             GB               1  ",
      "text/html": "<div>\n<style scoped>\n    .dataframe tbody tr th:only-of-type {\n        vertical-align: middle;\n    }\n\n    .dataframe tbody tr th {\n        vertical-align: top;\n    }\n\n    .dataframe thead th {\n        text-align: right;\n    }\n</style>\n<table border=\"1\" class=\"dataframe\">\n  <thead>\n    <tr style=\"text-align: right;\">\n      <th></th>\n      <th>Id</th>\n      <th>issuercountrycode</th>\n      <th>txvariantcode</th>\n      <th>bin</th>\n      <th>amount</th>\n      <th>currencycode</th>\n      <th>shoppercountrycode</th>\n      <th>shopperinteraction</th>\n      <th>cardverificationcodesupplied</th>\n      <th>cvcresponsecode</th>\n      <th>accountcode</th>\n      <th>mail_id</th>\n      <th>ip_id</th>\n      <th>card_id</th>\n      <th>label</th>\n      <th>amount_eur</th>\n      <th>accountcode_cc</th>\n      <th>countries_equal</th>\n    </tr>\n  </thead>\n  <tbody>\n    <tr>\n      <th>0</th>\n      <td>1</td>\n      <td>49</td>\n      <td>2</td>\n      <td>546097.0</td>\n      <td>4500.0</td>\n      <td>1</td>\n      <td>49</td>\n      <td>1</td>\n      <td>1</td>\n      <td>1</td>\n      <td>3</td>\n      <td>17805</td>\n      <td>12538</td>\n      <td>105460</td>\n      <td>0</td>\n      <td>52.175123</td>\n      <td>GB</td>\n      <td>1</td>\n    </tr>\n    <tr>\n      <th>1</th>\n      <td>2</td>\n      <td>49</td>\n      <td>3</td>\n      <td>557349.0</td>\n      <td>3395.0</td>\n      <td>1</td>\n      <td>49</td>\n      <td>1</td>\n      <td>1</td>\n      <td>1</td>\n      <td>3</td>\n      <td>115620</td>\n      <td>107432</td>\n      <td>29882</td>\n      <td>0</td>\n      <td>39.363232</td>\n      <td>GB</td>\n      <td>1</td>\n    </tr>\n    <tr>\n      <th>2</th>\n      <td>3</td>\n      <td>49</td>\n      <td>2</td>\n      <td>542011.0</td>\n      <td>3895.0</td>\n      <td>1</td>\n      <td>49</td>\n      <td>1</td>\n      <td>1</td>\n      <td>1</td>\n      <td>3</td>\n      <td>84651</td>\n      <td>87293</td>\n      <td>123743</td>\n      <td>0</td>\n      <td>45.160467</td>\n      <td>GB</td>\n      <td>1</td>\n    </tr>\n    <tr>\n      <th>3</th>\n      <td>4</td>\n      <td>49</td>\n      <td>8</td>\n      <td>465943.0</td>\n      <td>15345.0</td>\n      <td>1</td>\n      <td>49</td>\n      <td>0</td>\n      <td>0</td>\n      <td>0</td>\n      <td>3</td>\n      <td>99845</td>\n      <td>147089</td>\n      <td>14712</td>\n      <td>0</td>\n      <td>177.917169</td>\n      <td>GB</td>\n      <td>1</td>\n    </tr>\n    <tr>\n      <th>4</th>\n      <td>6</td>\n      <td>49</td>\n      <td>8</td>\n      <td>475127.0</td>\n      <td>5095.0</td>\n      <td>1</td>\n      <td>49</td>\n      <td>1</td>\n      <td>1</td>\n      <td>1</td>\n      <td>3</td>\n      <td>122624</td>\n      <td>56390</td>\n      <td>75841</td>\n      <td>0</td>\n      <td>59.073834</td>\n      <td>GB</td>\n      <td>1</td>\n    </tr>\n    <tr>\n      <th>5</th>\n      <td>8</td>\n      <td>49</td>\n      <td>8</td>\n      <td>475130.0</td>\n      <td>2325.0</td>\n      <td>1</td>\n      <td>49</td>\n      <td>0</td>\n      <td>0</td>\n      <td>0</td>\n      <td>3</td>\n      <td>17723</td>\n      <td>73821</td>\n      <td>96349</td>\n      <td>0</td>\n      <td>26.957147</td>\n      <td>GB</td>\n      <td>1</td>\n    </tr>\n    <tr>\n      <th>6</th>\n      <td>10</td>\n      <td>49</td>\n      <td>8</td>\n      <td>446291.0</td>\n      <td>10050.0</td>\n      <td>1</td>\n      <td>49</td>\n      <td>1</td>\n      <td>1</td>\n      <td>1</td>\n      <td>3</td>\n      <td>43402</td>\n      <td>65524</td>\n      <td>109435</td>\n      <td>0</td>\n      <td>116.524441</td>\n      <td>GB</td>\n      <td>1</td>\n    </tr>\n    <tr>\n      <th>7</th>\n      <td>11</td>\n      <td>49</td>\n      <td>8</td>\n      <td>446238.0</td>\n      <td>7000.0</td>\n      <td>1</td>\n      <td>49</td>\n      <td>1</td>\n      <td>1</td>\n      <td>1</td>\n      <td>3</td>\n      <td>82674</td>\n      <td>121644</td>\n      <td>64458</td>\n      <td>0</td>\n      <td>81.161302</td>\n      <td>GB</td>\n      <td>1</td>\n    </tr>\n    <tr>\n      <th>8</th>\n      <td>12</td>\n      <td>49</td>\n      <td>8</td>\n      <td>465943.0</td>\n      <td>5195.0</td>\n      <td>1</td>\n      <td>49</td>\n      <td>1</td>\n      <td>1</td>\n      <td>1</td>\n      <td>3</td>\n      <td>157111</td>\n      <td>160643</td>\n      <td>133779</td>\n      <td>0</td>\n      <td>60.233281</td>\n      <td>GB</td>\n      <td>1</td>\n    </tr>\n    <tr>\n      <th>9</th>\n      <td>13</td>\n      <td>49</td>\n      <td>8</td>\n      <td>475714.0</td>\n      <td>15000.0</td>\n      <td>1</td>\n      <td>49</td>\n      <td>1</td>\n      <td>1</td>\n      <td>1</td>\n      <td>3</td>\n      <td>161166</td>\n      <td>144211</td>\n      <td>119109</td>\n      <td>0</td>\n      <td>173.917076</td>\n      <td>GB</td>\n      <td>1</td>\n    </tr>\n  </tbody>\n</table>\n</div>"
     },
     "metadata": {},
     "output_type": "display_data"
    }
   ],
   "source": [
    "# Load the data\n",
    "df_src = pd.read_csv(os.path.join('data', 'train_data.csv'))\n",
    "\n",
    "# Number of Transactions\n",
    "print(\"================= Number of Transactions =================\")\n",
    "print(\"Number of rows = \" + str(len(df_src.index)))\n",
    "print(\"Number of fraudulent transactions = \" + str(len(df_src.loc[df_src['label'] == 1])))\n",
    "print(\"Number of valid transactions = \" + str(len(df_src.loc[df_src['label'] == 0])))\n",
    "\n",
    "# Show part of the sample data\n",
    "print(\"================= Show part of the sample data =================\")\n",
    "display(df_src.head(5))\n",
    "\n",
    "def data_preprocessing(df_src):\n",
    "    # Preprocessing the data\n",
    "    # 1.Card ID\n",
    "    card_enc = LabelEncoder()\n",
    "    card_enc.fit(df_src['card_id'])\n",
    "    df_src['card_id'] = card_enc.transform(df_src.card_id)\n",
    "\n",
    "    # 2.IP ID\n",
    "    ip_enc = LabelEncoder()\n",
    "    ip_enc.fit(df_src['ip_id'])\n",
    "    df_src['ip_id'] = ip_enc.transform(df_src.ip_id)\n",
    "\n",
    "    # 3.Remove NA values\n",
    "    df_src.loc[df_src['cardverificationcodesupplied'].isna(),'cardverificationcodesupplied'] = False\n",
    "    df_src.loc[df_src['issuercountrycode'].isna(),'issuercountrycode'] = 'ZZ'\n",
    "    df_src.loc[df_src['shoppercountrycode'].isna(),'shoppercountrycode'] = 'ZZ'\n",
    "\n",
    "    # 4.Country code\n",
    "    unique_issuer_cc = df_src['issuercountrycode'].unique()\n",
    "    unique_shopper_cc = df_src['shoppercountrycode'].unique()\n",
    "    both = np.append(unique_issuer_cc, unique_shopper_cc)\n",
    "    df_countrycodes = pd.DataFrame(both)\n",
    "    unique_codes = df_countrycodes[0].unique()\n",
    "    enc = LabelEncoder()\n",
    "    enc.fit(unique_codes)\n",
    "    df_src['issuercountrycode'] = enc.transform(df_src.issuercountrycode)\n",
    "    df_src['shoppercountrycode'] = enc.transform(df_src.shoppercountrycode)\n",
    "\n",
    "    # 5.Change currency to EUR\n",
    "    def conv(row):\n",
    "        currency_dict = {\"BGN\": 1.9558, \"NZD\": 1.6805, \"ILS\": 4.0448, \"RUB\": 72.2099, \"CAD\": 1.5075, \"USD\": 1.1218,\n",
    "                         \"PHP\": 58.125, \"CHF\": 1.1437, \"ZAR\": 16.0224, \"AUD\": 1.5911, \"JPY\": 124.93, \"TRY\": 6.6913,\n",
    "                         \"HKD\": 8.8007, \"MYR\": 4.6314, \"THB\": 35.802, \"HRK\": 7.413, \"NOK\": 9.6678, \"IDR\": 15953.68,\n",
    "                         \"DKK\": 7.4646, \"CZK\": 25.659, \"HUF\": 322.97, \"GBP\": 0.86248, \"MXN\": 21.2829, \"KRW\": 1308.01,\n",
    "                         \"ISK\": 136.2, \"SGD\": 1.5263, \"BRL\": 4.405, \"PLN\": 4.2868, \"INR\": 78.0615, \"RON\": 4.7596,\n",
    "                         \"CNY\": 7.5541, \"SEK\": 10.635}\n",
    "        return row['amount'] / (currency_dict[row['currencycode']]*100)\n",
    "    df_src['amount_eur'] = df_src.apply(lambda x: conv(x), axis=1)\n",
    "\n",
    "    # 6.Tx-variantcode\n",
    "    enc1 = LabelEncoder()\n",
    "    enc1.fit(df_src['txvariantcode'])\n",
    "    df_src['txvariantcode'] = enc1.transform(df_src.txvariantcode)\n",
    "\n",
    "    # 7.Currency code\n",
    "    enc2 = LabelEncoder()\n",
    "    enc2.fit(df_src['currencycode'])\n",
    "    df_src['currencycode'] = enc2.transform(df_src.currencycode)\n",
    "\n",
    "    # 8.Shopper interaction\n",
    "    enc3 = LabelEncoder()\n",
    "    enc3.fit(df_src['shopperinteraction'])\n",
    "    df_src['shopperinteraction'] = enc3.transform(df_src.shopperinteraction)\n",
    "\n",
    "    # 9.Cache accountcode_cc\n",
    "    df_src['accountcode'] = df_src['accountcode'].apply(lambda x: re.sub('Account','',x))\n",
    "    df_src['accountcode_cc'] = 0\n",
    "    df_src.loc[(df_src['accountcode'] == 'UK'),'accountcode_cc'] = 'GB'\n",
    "    df_src.loc[(df_src['accountcode'] == 'Mexico'),'accountcode_cc'] = 'MX'\n",
    "    df_src.loc[(df_src['accountcode'] == 'Sweden'),'accountcode_cc'] = 'SE'\n",
    "    df_src.loc[(df_src['accountcode'] == 'APAC'),'accountcode_cc'] = 'APAC'\n",
    "\n",
    "    # 10.Account code\n",
    "    enc4 = LabelEncoder()\n",
    "    enc4.fit(df_src['accountcode'])\n",
    "    df_src['accountcode'] = enc4.transform(df_src.accountcode)\n",
    "\n",
    "    # 11.Card verification code supplied\n",
    "    enc5 = LabelEncoder()\n",
    "    enc5.fit(df_src['cardverificationcodesupplied'])\n",
    "    df_src['cardverificationcodesupplied'] = enc5.transform(df_src.cardverificationcodesupplied)\n",
    "\n",
    "    # 12. Mail id\n",
    "    df_src.loc[df_src['mail_id'].str.contains('na',case=False),'mail_id'] = 'email99999'\n",
    "\n",
    "    enc6 = LabelEncoder()\n",
    "    enc6.fit(df_src['mail_id'])\n",
    "    df_src['mail_id'] = enc6.transform(df_src.mail_id)\n",
    "\n",
    "    # Validation result of CVC/CVV2\n",
    "    df_src.loc[df_src['cvcresponsecode'] > 2,'cvcresponsecode'] = 3\n",
    "\n",
    "    # Feature Engineering\n",
    "    df_src['countries_equal'] = (df_src['shoppercountrycode'] == df_src['issuercountrycode'])\n",
    "    df_src.loc[df_src['countries_equal'] == False,'countries_equal'] = 0\n",
    "    df_src.loc[df_src['countries_equal'] == True,'countries_equal'] = 1\n",
    "    return df_src\n",
    "\n",
    "df_src = data_preprocessing(df_src)\n",
    "# show data after processing\n",
    "print(\"=================Processed data=================\")\n",
    "display(df_src.head(10))"
   ],
   "metadata": {
    "collapsed": false,
    "pycharm": {
     "name": "#%%\n"
    }
   }
  },
  {
   "cell_type": "markdown",
   "source": [
    "### (1) Transaction Amount"
   ],
   "metadata": {
    "collapsed": false,
    "pycharm": {
     "name": "#%% md\n"
    }
   }
  },
  {
   "cell_type": "code",
   "execution_count": 5,
   "outputs": [
    {
     "data": {
      "text/plain": "[Text(0, 0.5, 'Transaction Amount(EUR)')]"
     },
     "execution_count": 5,
     "metadata": {},
     "output_type": "execute_result"
    },
    {
     "data": {
      "text/plain": "<Figure size 914.4x1099.44 with 1 Axes>",
      "image/png": "[encoded data removed]"
     },
     "metadata": {},
     "output_type": "display_data"
    }
   ],
   "source": [
    "df_amount = df_src[['label', 'amount_eur']]\n",
    "sns.set(rc={'figure.figsize':(12.7,15.27)})\n",
    "sns.set_style(\"whitegrid\")\n",
    "\n",
    "ax = sns.boxplot(x='label',y='amount_eur', data=df_amount)\n",
    "ax.set(xlabel = \"Benign and Fraud\")\n",
    "ax.set(ylabel = \"Transaction Amount(EUR)\")\n"
   ],
   "metadata": {
    "collapsed": false,
    "pycharm": {
     "name": "#%%\n"
    }
   }
  },
  {
   "cell_type": "markdown",
   "source": [
    "### (2) countries equal"
   ],
   "metadata": {
    "collapsed": false,
    "pycharm": {
     "name": "#%% md\n"
    }
   }
  },
  {
   "cell_type": "code",
   "execution_count": 6,
   "outputs": [],
   "source": [
    "df_ctr_equal = df_src[['label', 'countries_equal']]\n",
    "df_ctr_equal = df_ctr_equal.value_counts()\n",
    "df_ctr_equal = df_ctr_equal.to_numpy()"
   ],
   "metadata": {
    "collapsed": false,
    "pycharm": {
     "name": "#%%\n"
    }
   }
  },
  {
   "cell_type": "code",
   "execution_count": 7,
   "outputs": [
    {
     "data": {
      "text/plain": "<Figure size 914.4x1099.44 with 2 Axes>",
      "image/png": "[encoded data removed]"
     },
     "metadata": {},
     "output_type": "display_data"
    }
   ],
   "source": [
    "fig = plt.figure()\n",
    "plt.subplot(1,2,1)\n",
    "plt.pie(df_ctr_equal[:2], labels=['Equal', 'Not Equal'], autopct='%1.1f%%', startangle=90)\n",
    "plt.title('Benign')\n",
    "plt.subplot(1,2,2)\n",
    "plt.pie(df_ctr_equal[2:], labels=['Equal', 'Not Equal'], autopct='%1.1f%%', startangle=90)\n",
    "plt.title('Fraud')\n",
    "plt.show()"
   ],
   "metadata": {
    "collapsed": false,
    "pycharm": {
     "name": "#%%\n"
    }
   }
  },
  {
   "cell_type": "markdown",
   "source": [
    "### (3) TODO: Another plot"
   ],
   "metadata": {
    "collapsed": false,
    "pycharm": {
     "name": "#%% md\n"
    }
   }
  },
  {
   "cell_type": "markdown",
   "source": [
    "## 2. Imbalance task – 1 A4 – Individual"
   ],
   "metadata": {
    "collapsed": false,
    "pycharm": {
     "name": "#%% md\n"
    }
   }
  },
  {
   "cell_type": "code",
   "execution_count": 11,
   "outputs": [],
   "source": [
    "from sklearn.model_selection import train_test_split\n",
    "# load data\n",
    "data_src = pd.read_csv('data/train_data.csv')\n",
    "# data preprocessing\n",
    "data_src = data_preprocessing(data_src)\n",
    "data_src = data_src.drop(columns=['Id','amount', 'accountcode_cc', 'countries_equal'])\n",
    "data_src = data_src.drop(columns=['card_id','mail_id','ip_id'])\n",
    "label_src = data_src['label']\n",
    "data_src = data_src.drop(columns=['label'])\n",
    "X_train, X_test, y_train, y_test = train_test_split(data_src, label_src, test_size=0.2)"
   ],
   "metadata": {
    "collapsed": false,
    "pycharm": {
     "name": "#%%\n"
    }
   }
  },
  {
   "cell_type": "code",
   "execution_count": 48,
   "outputs": [],
   "source": [
    "\n",
    "class MySMOTE:\n",
    "    \"\"\"\n",
    "    MySMOTE is a class that implements the SMOTE algorithm.\n",
    "    \"\"\"\n",
    "    def __init__(self, n = 1, k = 5):\n",
    "        self.n = n # Amount of SMOTE n%\n",
    "        self.k = k # Number of nearest neighbors\n",
    "        self.new_index = 0 # Index counter for new samples\n",
    "        self.synthetic = None # Synthetic samples\n",
    "        if self.n < 1:\n",
    "            raise ValueError(\"The sample rate n must be greater than 1\")\n",
    "\n",
    "    def fit_resample(self, sample, label):\n",
    "        sample_minor = sample[label == 1]\n",
    "        self.synthetic = np.zeros((sample_minor.shape[0] * self.n, sample_minor.shape[1]))\n",
    "        for i in range(sample_minor.shape[0]):\n",
    "            # Get the neighbors of the current sample\n",
    "            neighbors = self.get_neighbors(sample_minor, sample_minor[i])\n",
    "            self.populate(sample_minor, i, neighbors)\n",
    "        synthetic_label = np.ones(self.synthetic.shape[0])\n",
    "        # Concatenate the synthetic samples with the original samples\n",
    "        synthetic = np.concatenate((sample, self.synthetic), axis=0)\n",
    "        synthetic_label = np.concatenate((label, synthetic_label), axis=0)\n",
    "        return synthetic, synthetic_label\n",
    "\n",
    "    def get_neighbors(self, X, x):\n",
    "        \"\"\"\n",
    "        Get the k nearest neighbors of x in X.\n",
    "        \"\"\"\n",
    "        distances = np.sqrt(np.sum((X - x)**2, axis=1))\n",
    "        neighbors = np.argsort(distances)\n",
    "        return neighbors[:self.k]\n",
    "\n",
    "    def populate(self, sample, i, neighbors):\n",
    "        for _ in range(self.n):\n",
    "            nn = np.random.choice(neighbors)\n",
    "            diff = sample[nn] - sample[i]\n",
    "            gap = np.random.rand()\n",
    "            self.synthetic[self.new_index] = sample[i] + gap * diff\n",
    "            self.new_index += 1\n"
   ],
   "metadata": {
    "collapsed": false,
    "pycharm": {
     "name": "#%%\n"
    }
   }
  },
  {
   "cell_type": "markdown",
   "source": [
    "### 2a. Print ROC curves"
   ],
   "metadata": {
    "collapsed": false,
    "pycharm": {
     "name": "#%% md\n"
    }
   }
  },
  {
   "cell_type": "code",
   "execution_count": 59,
   "outputs": [
    {
     "name": "stderr",
     "output_type": "stream",
     "text": [
      "/home/cy/anaconda3/envs/pytorch/lib/python3.9/site-packages/sklearn/utils/deprecation.py:87: FutureWarning: Function plot_roc_curve is deprecated; Function :func:`plot_roc_curve` is deprecated in 1.0 and will be removed in 1.2. Use one of the class methods: :meth:`sklearn.metric.RocCurveDisplay.from_predictions` or :meth:`sklearn.metric.RocCurveDisplay.from_estimator`.\n",
      "  warnings.warn(msg, category=FutureWarning)\n"
     ]
    },
    {
     "name": "stdout",
     "output_type": "stream",
     "text": [
      "0.9981543004798819\n",
      "after SMOTE: 357702\n",
      "0.9873174075831883\n"
     ]
    },
    {
     "name": "stderr",
     "output_type": "stream",
     "text": [
      "/home/cy/anaconda3/envs/pytorch/lib/python3.9/site-packages/sklearn/linear_model/_stochastic_gradient.py:696: ConvergenceWarning: Maximum number of iteration reached before convergence. Consider increasing max_iter to improve the fit.\n",
      "  warnings.warn(\n",
      "/home/cy/anaconda3/envs/pytorch/lib/python3.9/site-packages/sklearn/utils/deprecation.py:87: FutureWarning: Function plot_roc_curve is deprecated; Function :func:`plot_roc_curve` is deprecated in 1.0 and will be removed in 1.2. Use one of the class methods: :meth:`sklearn.metric.RocCurveDisplay.from_predictions` or :meth:`sklearn.metric.RocCurveDisplay.from_estimator`.\n",
      "  warnings.warn(msg, category=FutureWarning)\n",
      "/home/cy/anaconda3/envs/pytorch/lib/python3.9/site-packages/sklearn/base.py:443: UserWarning: X has feature names, but SGDClassifier was fitted without feature names\n",
      "  warnings.warn(\n",
      "/home/cy/anaconda3/envs/pytorch/lib/python3.9/site-packages/sklearn/base.py:443: UserWarning: X has feature names, but SGDClassifier was fitted without feature names\n",
      "  warnings.warn(\n"
     ]
    },
    {
     "data": {
      "text/plain": "<Figure size 914.4x1099.44 with 1 Axes>",
      "image/png": "[encoded data removed]"
     },
     "metadata": {},
     "output_type": "display_data"
    },
    {
     "data": {
      "text/plain": "<Figure size 914.4x1099.44 with 1 Axes>",
      "image/png": "[encoded data removed]"
     },
     "metadata": {},
     "output_type": "display_data"
    }
   ],
   "source": [
    "from sklearn.linear_model import SGDClassifier\n",
    "import sklearn.neighbors\n",
    "from imblearn.over_sampling import SMOTE\n",
    "import sklearn.metrics as metrics\n",
    "clf = SGDClassifier(max_iter=1000, tol=1e-3)\n",
    "clf.fit(X_train, y_train)\n",
    "metrics.plot_roc_curve(clf, X_test, y_test)\n",
    "print(metrics.accuracy_score(y_test, clf.predict(X_test)))\n",
    "metrics.confusion_matrix(y_test, clf.predict(X_test))\n",
    "sm = MySMOTE(n=1000, k=2)\n",
    "X_train_sm, y_train_sm = sm.fit_resample(X_train.to_numpy(), y_train.to_numpy())\n",
    "#display(X_train_sm.head(10))\n",
    "print(\"after SMOTE:\",len(X_train_sm))\n",
    "#print(\"Number of fraudulent transactions = \" + str(len(y_train_sm.loc[y_train_sm == 1])))\n",
    "#print(\"Number of valid transactions = \" + str(len(y_train_sm.loc[y_train_sm == 0])))\n",
    "clf.fit(X_train_sm, y_train_sm)\n",
    "metrics.plot_roc_curve(clf, X_test, y_test)\n",
    "print(metrics.accuracy_score(y_test, clf.predict(X_test)))\n"
   ],
   "metadata": {
    "collapsed": false,
    "pycharm": {
     "name": "#%%\n"
    }
   }
  },
  {
   "cell_type": "markdown",
   "metadata": {
    "pycharm": {
     "name": "#%% md\n"
    }
   },
   "source": [
    "### 2b. Analyse the performance of the classifiers. Explain which method performs best."
   ]
  },
  {
   "cell_type": "code",
   "execution_count": null,
   "metadata": {
    "pycharm": {
     "name": "#%%\n"
    }
   },
   "outputs": [],
   "source": []
  },
  {
   "cell_type": "markdown",
   "metadata": {
    "pycharm": {
     "name": "#%% md\n"
    }
   },
   "source": [
    "### 2c. Is using SMOTE a good idea? Why (not)?"
   ]
  },
  {
   "cell_type": "code",
   "execution_count": null,
   "metadata": {
    "pycharm": {
     "name": "#%%\n"
    }
   },
   "outputs": [],
   "source": []
  },
  {
   "cell_type": "markdown",
   "metadata": {
    "pycharm": {
     "name": "#%% md\n"
    }
   },
   "source": [
    "## 3. Privacy task – 1 A4 – Individual"
   ]
  },
  {
   "cell_type": "markdown",
   "metadata": {
    "pycharm": {
     "name": "#%% md\n"
    }
   },
   "source": [
    "### 3a. Print ROC curves"
   ]
  },
  {
   "cell_type": "code",
   "execution_count": null,
   "metadata": {
    "pycharm": {
     "name": "#%%\n"
    }
   },
   "outputs": [],
   "source": []
  },
  {
   "cell_type": "markdown",
   "metadata": {
    "pycharm": {
     "name": "#%% md\n"
    }
   },
   "source": [
    "### 3b. Analyse the performance of the classifiers. Explain which method performs best."
   ]
  },
  {
   "cell_type": "code",
   "execution_count": null,
   "metadata": {
    "pycharm": {
     "name": "#%%\n"
    }
   },
   "outputs": [],
   "source": []
  },
  {
   "cell_type": "markdown",
   "metadata": {
    "pycharm": {
     "name": "#%% md\n"
    }
   },
   "source": [
    "### 3c. Can you explain the performance difference for the different classifiers? Is it advisable to protect people’s privacy using rank-swapping? Why (not)?"
   ]
  },
  {
   "cell_type": "code",
   "execution_count": null,
   "metadata": {
    "pycharm": {
     "name": "#%%\n"
    }
   },
   "outputs": [],
   "source": []
  },
  {
   "cell_type": "markdown",
   "metadata": {
    "pycharm": {
     "name": "#%% md\n"
    }
   },
   "source": [
    "## 4. Classification task – 2 A4"
   ]
  },
  {
   "cell_type": "markdown",
   "metadata": {
    "pycharm": {
     "name": "#%% md\n"
    }
   },
   "source": [
    "### 4a. Print relevant plots and metrics with clear headings."
   ]
  },
  {
   "cell_type": "code",
   "execution_count": null,
   "metadata": {
    "pycharm": {
     "name": "#%%\n"
    }
   },
   "outputs": [],
   "source": []
  },
  {
   "cell_type": "markdown",
   "metadata": {
    "pycharm": {
     "name": "#%% md\n"
    }
   },
   "source": [
    "### 4b. Explain the applied data pre-processing steps, learning algorithms, and post-processing steps or ensemble methods. Compare the performance of the two algorithms, focusing on performance criteria that are relevant in practice, use 10-fold cross-validation."
   ]
  },
  {
   "cell_type": "code",
   "execution_count": null,
   "metadata": {
    "pycharm": {
     "name": "#%%\n"
    }
   },
   "outputs": [],
   "source": []
  },
  {
   "cell_type": "markdown",
   "metadata": {
    "pycharm": {
     "name": "#%% md\n"
    }
   },
   "source": [
    "## 5. Bonus task – 1 A4"
   ]
  },
  {
   "cell_type": "markdown",
   "metadata": {
    "pycharm": {
     "name": "#%% md\n"
    }
   },
   "source": [
    "### 5a. Provide code and report below"
   ]
  },
  {
   "cell_type": "code",
   "execution_count": null,
   "metadata": {
    "pycharm": {
     "name": "#%%\n"
    }
   },
   "outputs": [],
   "source": []
  }
 ],
 "metadata": {
  "kernelspec": {
   "name": "python3",
   "display_name": "Python 3.9.1 64-bit ('venv')",
   "metadata": {
    "interpreter": {
     "hash": "bf9aa738b81349e875513c622ef6663fb616407fdaeae46f7692b5fc3bd3bcc6"
    }
   }
  },
  "language_info": {
   "codemirror_mode": {
    "name": "ipython",
    "version": 3
   },
   "file_extension": ".py",
   "mimetype": "text/x-python",
   "name": "python",
   "nbconvert_exporter": "python",
   "pygments_lexer": "ipython3",
   "version": "3.9.1-final"
  }
 },
 "nbformat": 4,
 "nbformat_minor": 2
}